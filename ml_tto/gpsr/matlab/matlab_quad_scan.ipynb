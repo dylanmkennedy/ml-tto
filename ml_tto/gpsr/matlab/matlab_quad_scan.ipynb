{
 "cells": [
  {
   "cell_type": "markdown",
   "id": "321a41e6",
   "metadata": {},
   "source": [
    "# 4D GPSR from Matlab"
   ]
  },
  {
   "cell_type": "code",
   "execution_count": null,
   "id": "f0cf5f14",
   "metadata": {},
   "outputs": [],
   "source": [
    "import matlab_parser\n",
    "import numpy as np\n",
    "from lcls_tools.common.data.model_general_calcs import bdes_to_kmod\n",
    "from gpsr.data_processing import process_images\n",
    "import torch\n",
    "from ml_tto.automatic_emittance.image_projection_fit import RecursiveImageProjectionFit\n",
    "\n",
    "from gpsr.modeling import GPSR\n",
    "from gpsr.train import LitGPSR\n",
    "from gpsr.beams import NNParticleBeamGenerator, NNTransform\n",
    "\n",
    "import pandas as pd\n",
    "import matplotlib.pyplot as plt\n",
    "\n",
    "import torch\n",
    "import lightning as L\n",
    "import time\n",
    "\n",
    "matlab_fname = \"Emittance-scan-OTRS_HTR_330-2025-03-03-231948.mat\"\n",
    "data = matlab_parser.loadmat(matlab_fname)"
   ]
  },
  {
   "cell_type": "markdown",
   "id": "308b4341",
   "metadata": {},
   "source": [
    "### get beamline info needed to perform the reconstruction"
   ]
  },
  {
   "cell_type": "code",
   "execution_count": null,
   "id": "774d0045",
   "metadata": {},
   "outputs": [],
   "source": [
    "quad_strengths = data[\"data\"][\"quadVal\"]\n",
    "energy = data[\"data\"][\"energy\"] * 1e9\n",
    "rmat = torch.tensor(np.array(data[\"data\"][\"rMatrix\"]))\n",
    "resolution = data[\"data\"][\"dataList\"][0][\"res\"][0] * 1e-6"
   ]
  },
  {
   "cell_type": "markdown",
   "id": "fb9d4873",
   "metadata": {},
   "source": [
    "### Process measured images"
   ]
  },
  {
   "cell_type": "code",
   "execution_count": null,
   "id": "63178586",
   "metadata": {},
   "outputs": [],
   "source": [
    "images = []\n",
    "for ele in data[\"data\"][\"dataList\"]:\n",
    "    images += [np.array(ele[\"img\"])]\n",
    "\n",
    "images = np.stack(images).transpose(0, 1, -1, -2)\n",
    "\n",
    "\n",
    "def fit(image):\n",
    "    res = RecursiveImageProjectionFit().fit_image(np.array(image))\n",
    "    return np.array(res.rms_size), np.array(res.centroid)\n",
    "\n",
    "\n",
    "final_images, meshgrid = process_images(\n",
    "    images, resolution * 1e6, fit, median_filter_size=None, pool_size=None\n",
    ")\n",
    "final_images = np.mean(final_images, axis=1)\n",
    "\n",
    "print(\"Final images shape: \", final_images.shape)\n",
    "print(\"Quad strengths shape: \", quad_strengths.shape)"
   ]
  },
  {
   "cell_type": "markdown",
   "id": "32dc5352",
   "metadata": {},
   "source": [
    "### Set up reconstruction data set and cheetah model"
   ]
  },
  {
   "cell_type": "code",
   "execution_count": null,
   "id": "1aff8e59",
   "metadata": {},
   "outputs": [],
   "source": [
    "from gpsr.datasets import QuadScanDataset\n",
    "from cheetah.accelerator import Screen\n",
    "\n",
    "screen = Screen(\n",
    "    resolution=final_images.shape[1:],\n",
    "    pixel_size=torch.ones(2) * resolution,\n",
    "    method=\"kde\",\n",
    "    kde_bandwidth=torch.tensor(resolution, dtype=torch.float32),\n",
    "    is_active=True,\n",
    ")\n",
    "\n",
    "xbins = torch.tensor(meshgrid[0][0])\n",
    "ybins = torch.tensor(meshgrid[1].T[0])\n",
    "\n",
    "train_dset = QuadScanDataset(\n",
    "    torch.tensor(quad_strengths, dtype=torch.float32).unsqueeze(-1),\n",
    "    torch.tensor(final_images, dtype=torch.float32),\n",
    "    screen,\n",
    ")"
   ]
  },
  {
   "cell_type": "code",
   "execution_count": null,
   "id": "37a7bc74",
   "metadata": {},
   "outputs": [],
   "source": [
    "train_dset.plot_data()"
   ]
  },
  {
   "cell_type": "code",
   "execution_count": null,
   "id": "fa882327",
   "metadata": {},
   "outputs": [],
   "source": [
    "from gpsr.modeling import GPSRLattice\n",
    "from cheetah.accelerator import CustomTransferMap, Segment\n",
    "from typing import Tuple\n",
    "\n",
    "\n",
    "class RMatLattice(GPSRLattice):\n",
    "    def __init__(self, rmat):\n",
    "        super().__init__()\n",
    "        self.register_parameter(\n",
    "            \"threshold\", torch.nn.Parameter(torch.tensor(0.0, dtype=torch.float32))\n",
    "        )\n",
    "        self.lattice = Segment(\n",
    "            [\n",
    "                CustomTransferMap(rmat),\n",
    "                screen,\n",
    "            ]\n",
    "        )\n",
    "\n",
    "    def set_lattice_parameters(self, x: torch.Tensor) -> None:\n",
    "        pass\n",
    "\n",
    "    def track_and_observe(self, beam) -> Tuple[torch.Tensor, ...]:\n",
    "        \"\"\"\n",
    "        tracks beam through the lattice and returns observations\n",
    "\n",
    "        Returns\n",
    "        -------\n",
    "        results: Tuple[Tensor]\n",
    "            Tuple of results from each measurement path\n",
    "        \"\"\"\n",
    "        self.lattice.elements[-1].pixel_size = self.lattice.elements[-1].pixel_size.to(\n",
    "            beam.x\n",
    "        )\n",
    "        beam.particle_charges = torch.ones_like(beam.x).to(device=beam.x.device)\n",
    "        self.lattice.track(beam)\n",
    "\n",
    "        observations = self.lattice.elements[-1].reading.transpose(-1, -2)\n",
    "\n",
    "        # clip observations\n",
    "        observations = torch.clip(observations - self.threshold * 1e-3, 0, None)\n",
    "\n",
    "        return tuple(observations.unsqueeze(0))"
   ]
  },
  {
   "cell_type": "markdown",
   "id": "e2337fbe",
   "metadata": {},
   "source": [
    "## Set up training"
   ]
  },
  {
   "cell_type": "code",
   "execution_count": null,
   "id": "649545a5",
   "metadata": {},
   "outputs": [],
   "source": [
    "## Reconstruction hyperparameters\n",
    "learning_rate = 1e-2  # learning rate of the optimizer\n",
    "num_epochs = 1000  # number of epochs\n",
    "n_hidden = 4  # number of hidden layers in the neural network (more-->more complex)\n",
    "\n",
    "# scale of the output beam distribution\n",
    "# (should be smaller than the scale size of the beam,\n",
    "# for example reconstructing a beam of ~ 100 um size requires a scale of 1e-4)\n",
    "output_scale = 1e-4"
   ]
  },
  {
   "cell_type": "code",
   "execution_count": null,
   "id": "7d3a5deb",
   "metadata": {},
   "outputs": [],
   "source": [
    "R = torch.eye(7).repeat(len(rmat), 1, 1)\n",
    "R[:, :6, :6] = rmat\n",
    "R[:, :2, :2]\n",
    "\n",
    "gpsr_lattice = RMatLattice(R.to(dtype=torch.float32))\n",
    "\n",
    "p0c = torch.tensor(energy).to(dtype=torch.float32)\n",
    "gpsr_model = GPSR(\n",
    "    NNParticleBeamGenerator(\n",
    "        10000, p0c, transformer=NNTransform(n_hidden, 20, output_scale=output_scale)\n",
    "    ),\n",
    "    gpsr_lattice,\n",
    ")\n",
    "train_loader = torch.utils.data.DataLoader(train_dset, batch_size=20)\n",
    "\n",
    "litgpsr = LitGPSR(gpsr_model, lr=learning_rate)"
   ]
  },
  {
   "cell_type": "markdown",
   "id": "2e4cdd5d",
   "metadata": {},
   "source": [
    "### Run training"
   ]
  },
  {
   "cell_type": "code",
   "execution_count": null,
   "id": "baa4256b",
   "metadata": {},
   "outputs": [],
   "source": [
    "# create a pytorch lightning trainer\n",
    "logger = L.pytorch.loggers.CSVLogger(\".\")\n",
    "trainer = L.Trainer(limit_train_batches=100, max_epochs=num_epochs, logger=logger)"
   ]
  },
  {
   "cell_type": "code",
   "execution_count": null,
   "id": "df4aab9d",
   "metadata": {},
   "outputs": [],
   "source": [
    "# run the training\n",
    "start = time.time()\n",
    "trainer.fit(model=litgpsr, train_dataloaders=train_loader)\n",
    "print(time.time() - start)"
   ]
  },
  {
   "cell_type": "code",
   "execution_count": null,
   "id": "eba83809",
   "metadata": {},
   "outputs": [],
   "source": [
    "# visualize the loss function as a function of the epoch\n",
    "trial_indicies = [0]  # indicies of the pytorch lightning trials to plot\n",
    "\n",
    "fig, ax = plt.subplots()\n",
    "min_losses = []\n",
    "for ele in trial_indicies:\n",
    "    metrics = pd.read_csv(f\"./lightning_logs/version_{ele}/metrics.csv\")\n",
    "    ax.plot(metrics.epoch, metrics.loss_epoch, label=ele)\n",
    "    min_losses.append(metrics.loss_epoch.min())\n",
    "\n",
    "ax.legend()\n",
    "ax.set_yscale(\"log\")\n",
    "ax.set_xlabel(\"Epoch\")\n",
    "ax.set_ylabel(\"Loss\")"
   ]
  },
  {
   "cell_type": "markdown",
   "id": "1b387e02",
   "metadata": {},
   "source": [
    "### Analyze reconstruction results"
   ]
  },
  {
   "cell_type": "code",
   "execution_count": null,
   "id": "9237dbf7",
   "metadata": {},
   "outputs": [],
   "source": [
    "# get the reconstructed beam distribution\n",
    "reconstructed_beam = litgpsr.gpsr_model.beam_generator()\n",
    "\n",
    "# predict the measurements to compare with training data\n",
    "pred = gpsr_model(train_dset.parameters)[0].detach()\n",
    "pred_dset = QuadScanDataset(train_dset.parameters, pred, screen)"
   ]
  },
  {
   "cell_type": "code",
   "execution_count": null,
   "id": "306dead2",
   "metadata": {},
   "outputs": [],
   "source": [
    "# compare the predicted measurements with the training data\n",
    "fig, ax = train_dset.plot_data(\n",
    "    overlay_data=pred_dset,\n",
    "    overlay_kwargs={\"levels\": [0.01, 0.25, 0.75], \"cmap\": \"Greys\"},\n",
    "    filter_size=0,\n",
    ")\n",
    "fig.set_size_inches(20, 4)\n",
    "fig.tight_layout()\n",
    "\n",
    "for ele in [train_dset, pred_dset]:\n",
    "    fig, ax = ele.plot_data()\n",
    "    fig.set_size_inches(20, 4)\n",
    "    fig.tight_layout()"
   ]
  },
  {
   "cell_type": "code",
   "execution_count": null,
   "id": "ef53a4b4",
   "metadata": {},
   "outputs": [],
   "source": [
    "# plot the 4D phase space of the reconstructed beam\n",
    "reconstructed_beam.plot_distribution(dimensions=[\"x\", \"px\", \"y\", \"py\"]);"
   ]
  },
  {
   "cell_type": "code",
   "execution_count": null,
   "id": "6499645b",
   "metadata": {},
   "outputs": [],
   "source": [
    "# get the reconstructed beam emittances and twiss parameters\n",
    "print(reconstructed_beam.emittance_x * energy / 0.511e6)\n",
    "print(reconstructed_beam.emittance_y * energy / 0.511e6)\n",
    "print(reconstructed_beam.beta_x)\n",
    "print(reconstructed_beam.beta_y)\n",
    "print(reconstructed_beam.alpha_x)\n",
    "print(reconstructed_beam.alpha_y)"
   ]
  }
 ],
 "metadata": {
  "language_info": {
   "name": "python"
  }
 },
 "nbformat": 4,
 "nbformat_minor": 5
}
